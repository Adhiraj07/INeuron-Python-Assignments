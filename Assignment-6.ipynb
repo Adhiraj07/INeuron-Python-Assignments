{
 "cells": [
  {
   "cell_type": "raw",
   "id": "913fc09a",
   "metadata": {},
   "source": [
    "1. What are escape characters, and how do you use them? \n",
    "Escape characters or sequences are illegal characters for Python and never get printed as part of the output. When backslash is used in Python programming, it allows the program to escape the next characters.\n",
    "\n",
    "\\’-->Single quotation\n",
    "\\-->Backslash\n",
    "\\n-->New Line\n",
    "\\r-->Carriage return\n",
    "\\t-->Tab\n",
    "\\b-->Backspace\n",
    "\\f-->Form feed\n",
    "\\ooo-->Octal equivalent\n",
    "\\xhhh-->Hexadecimal equivalent"
   ]
  },
  {
   "cell_type": "code",
   "execution_count": 1,
   "id": "56c334b2",
   "metadata": {},
   "outputs": [
    {
     "ename": "SyntaxError",
     "evalue": "invalid syntax (72395488.py, line 1)",
     "output_type": "error",
     "traceback": [
      "\u001b[1;36m  Input \u001b[1;32mIn [1]\u001b[1;36m\u001b[0m\n\u001b[1;33m    print('Who's this?')\u001b[0m\n\u001b[1;37m               ^\u001b[0m\n\u001b[1;31mSyntaxError\u001b[0m\u001b[1;31m:\u001b[0m invalid syntax\n"
     ]
    }
   ],
   "source": [
    "print('Who's this?')"
   ]
  },
  {
   "cell_type": "code",
   "execution_count": 2,
   "id": "654ff0dc",
   "metadata": {},
   "outputs": [
    {
     "name": "stdout",
     "output_type": "stream",
     "text": [
      "Who's this?\n"
     ]
    }
   ],
   "source": [
    "print('Who\\'s this?') "
   ]
  },
  {
   "cell_type": "code",
   "execution_count": 5,
   "id": "065d41cf",
   "metadata": {},
   "outputs": [
    {
     "name": "stdout",
     "output_type": "stream",
     "text": [
      "Hello \n",
      "world\n"
     ]
    }
   ],
   "source": [
    "print('Hello \\nworld') # “\\n” here, which tells the interpreter to print some characters in the new line separately."
   ]
  },
  {
   "cell_type": "code",
   "execution_count": 6,
   "id": "58041d05",
   "metadata": {},
   "outputs": [
    {
     "name": "stdout",
     "output_type": "stream",
     "text": [
      "Hi\\Python\n"
     ]
    }
   ],
   "source": [
    "#if we want to print a single backslash use so we'll use \"\\\\\"\n",
    "print(\"Hi\\\\Python\")\n"
   ]
  },
  {
   "cell_type": "raw",
   "id": "81572126",
   "metadata": {},
   "source": [
    "2. What do the escape characters n and t stand for?\n",
    "if we want to print some part of the particular string in the new line we use /n\n",
    "/t is use for tab space\n"
   ]
  },
  {
   "cell_type": "code",
   "execution_count": 8,
   "id": "141eb609",
   "metadata": {},
   "outputs": [
    {
     "name": "stdout",
     "output_type": "stream",
     "text": [
      "Hi \tPython\n",
      "Hi \n",
      "all\n"
     ]
    }
   ],
   "source": [
    "print(\"Hi \\tPython\")\n",
    "print(\"Hi \\nall\")"
   ]
  },
  {
   "cell_type": "raw",
   "id": "cfab3dcb",
   "metadata": {},
   "source": [
    "3. What is the way to include backslash characters in a string? \n"
   ]
  },
  {
   "cell_type": "code",
   "execution_count": 9,
   "id": "919a7242",
   "metadata": {},
   "outputs": [
    {
     "name": "stdout",
     "output_type": "stream",
     "text": [
      "Hi\\Python\n"
     ]
    }
   ],
   "source": [
    "print(\"Hi\\\\Python\")\n"
   ]
  },
  {
   "cell_type": "raw",
   "id": "439abb9d",
   "metadata": {},
   "source": [
    "6. What are the values of the given expressions? \n",
    "'Hello, world!'[1] \n",
    "\n",
    "'Hello, world!'[0:5] \n",
    "\n",
    "'Hello, world!'[:5] \n",
    "\n",
    "'Hello, world!'[3:] "
   ]
  },
  {
   "cell_type": "code",
   "execution_count": 11,
   "id": "324cea43",
   "metadata": {},
   "outputs": [
    {
     "data": {
      "text/plain": [
       "'e'"
      ]
     },
     "execution_count": 11,
     "metadata": {},
     "output_type": "execute_result"
    }
   ],
   "source": [
    "'Hello, world!'[1] \n"
   ]
  },
  {
   "cell_type": "code",
   "execution_count": 12,
   "id": "e4d39d04",
   "metadata": {},
   "outputs": [
    {
     "data": {
      "text/plain": [
       "'Hello'"
      ]
     },
     "execution_count": 12,
     "metadata": {},
     "output_type": "execute_result"
    }
   ],
   "source": [
    "'Hello, world!'[0:5] "
   ]
  },
  {
   "cell_type": "code",
   "execution_count": 13,
   "id": "e62bc861",
   "metadata": {},
   "outputs": [
    {
     "data": {
      "text/plain": [
       "'Hello'"
      ]
     },
     "execution_count": 13,
     "metadata": {},
     "output_type": "execute_result"
    }
   ],
   "source": [
    "'Hello, world!'[:5] "
   ]
  },
  {
   "cell_type": "code",
   "execution_count": 15,
   "id": "5d9843d9",
   "metadata": {},
   "outputs": [
    {
     "data": {
      "text/plain": [
       "'lo, world!'"
      ]
     },
     "execution_count": 15,
     "metadata": {},
     "output_type": "execute_result"
    }
   ],
   "source": [
    "'Hello, world!'[3:] "
   ]
  },
  {
   "cell_type": "code",
   "execution_count": 17,
   "id": "088a0658",
   "metadata": {},
   "outputs": [
    {
     "data": {
      "text/plain": [
       "'hello'"
      ]
     },
     "execution_count": 17,
     "metadata": {},
     "output_type": "execute_result"
    }
   ],
   "source": [
    "7. What are the values of the following expressions? \n",
    "\n",
    "'Hello'.upper() #HELLO\n",
    " \n",
    "'Hello'.upper().isupper() #False\n",
    "\n",
    "'Hello'.upper().lower() #hello"
   ]
  },
  {
   "cell_type": "code",
   "execution_count": 18,
   "id": "d7a7c18d",
   "metadata": {},
   "outputs": [
    {
     "data": {
      "text/plain": [
       "'HELLO'"
      ]
     },
     "execution_count": 18,
     "metadata": {},
     "output_type": "execute_result"
    }
   ],
   "source": [
    "'Hello'.upper() #HELLO"
   ]
  },
  {
   "cell_type": "code",
   "execution_count": 19,
   "id": "700c745d",
   "metadata": {},
   "outputs": [
    {
     "data": {
      "text/plain": [
       "True"
      ]
     },
     "execution_count": 19,
     "metadata": {},
     "output_type": "execute_result"
    }
   ],
   "source": [
    "'Hello'.upper().isupper() #False"
   ]
  },
  {
   "cell_type": "code",
   "execution_count": 20,
   "id": "f17db713",
   "metadata": {},
   "outputs": [
    {
     "data": {
      "text/plain": [
       "'hello'"
      ]
     },
     "execution_count": 20,
     "metadata": {},
     "output_type": "execute_result"
    }
   ],
   "source": [
    "\n",
    "'Hello'.upper().lower() #hello"
   ]
  },
  {
   "cell_type": "raw",
   "id": "fcc053bf",
   "metadata": {},
   "source": [
    "8. What are the values of the following expressions? \n",
    "'Remember, remember, the fifth of July.'.split() \n",
    "\n",
    "'-'.join('There can only one.'.split()) "
   ]
  },
  {
   "cell_type": "code",
   "execution_count": 26,
   "id": "69c0bebd",
   "metadata": {},
   "outputs": [
    {
     "data": {
      "text/plain": [
       "['Remember,', 'remember,', 'the', 'fifth', 'of', 'July.']"
      ]
     },
     "execution_count": 26,
     "metadata": {},
     "output_type": "execute_result"
    }
   ],
   "source": [
    "'Remember, remember, the fifth of July.'.split() "
   ]
  },
  {
   "cell_type": "code",
   "execution_count": 22,
   "id": "daaea8f7",
   "metadata": {},
   "outputs": [
    {
     "data": {
      "text/plain": [
       "'There-can-only-one.'"
      ]
     },
     "execution_count": 22,
     "metadata": {},
     "output_type": "execute_result"
    }
   ],
   "source": [
    "'-'.join('There can only one.'.split()) "
   ]
  },
  {
   "cell_type": "raw",
   "id": "dfd177e7",
   "metadata": {},
   "source": [
    "9. What are the methods for right-justifying, left-justifying, and centering a string? "
   ]
  },
  {
   "cell_type": "code",
   "execution_count": 37,
   "id": "99b5e698",
   "metadata": {},
   "outputs": [
    {
     "data": {
      "text/plain": [
       "'iNeuron             '"
      ]
     },
     "execution_count": 37,
     "metadata": {},
     "output_type": "execute_result"
    }
   ],
   "source": [
    "#This function left aligns the string according to the width specified and fills remaining space of line with blank space if ‘ fillchr ‘ argument is not passed.\n",
    "# left justified\n",
    "str =\"iNeuron\"\n",
    "str.ljust(20,\" \") "
   ]
  },
  {
   "cell_type": "code",
   "execution_count": 38,
   "id": "084973b9",
   "metadata": {},
   "outputs": [
    {
     "data": {
      "text/plain": [
       "'             iNeuron'"
      ]
     },
     "execution_count": 38,
     "metadata": {},
     "output_type": "execute_result"
    }
   ],
   "source": [
    "#This function right aligns the string according to the width specified and fills remaining space of line with blank space if ‘ fillchr ‘ argument is not passed.\n",
    "str =\"iNeuron\"\n",
    "str.rjust(20,\" \")"
   ]
  },
  {
   "cell_type": "code",
   "execution_count": 39,
   "id": "6585c107",
   "metadata": {},
   "outputs": [
    {
     "data": {
      "text/plain": [
       "'      iNeuron       '"
      ]
     },
     "execution_count": 39,
     "metadata": {},
     "output_type": "execute_result"
    }
   ],
   "source": [
    "str =\"iNeuron\"\n",
    "str.center(20) #This function center aligns the string according to the width specified and fills remaining space of line with blank space if ‘ fillchr ‘ argument is not passed.\n",
    "\n"
   ]
  },
  {
   "cell_type": "raw",
   "id": "f96ffdc0",
   "metadata": {},
   "source": [
    "10. What is the best way to remove whitespace characters from the start or end? \n",
    "We can use the strip method"
   ]
  },
  {
   "cell_type": "code",
   "execution_count": 40,
   "id": "368797c7",
   "metadata": {},
   "outputs": [
    {
     "data": {
      "text/plain": [
       "'Hi i have whitespace'"
      ]
     },
     "execution_count": 40,
     "metadata": {},
     "output_type": "execute_result"
    }
   ],
   "source": [
    "str1=\"  Hi i have whitespace  \"\n",
    "str1.strip()"
   ]
  },
  {
   "cell_type": "code",
   "execution_count": null,
   "id": "3bd97528",
   "metadata": {},
   "outputs": [],
   "source": []
  }
 ],
 "metadata": {
  "kernelspec": {
   "display_name": "Python 3 (ipykernel)",
   "language": "python",
   "name": "python3"
  },
  "language_info": {
   "codemirror_mode": {
    "name": "ipython",
    "version": 3
   },
   "file_extension": ".py",
   "mimetype": "text/x-python",
   "name": "python",
   "nbconvert_exporter": "python",
   "pygments_lexer": "ipython3",
   "version": "3.9.12"
  }
 },
 "nbformat": 4,
 "nbformat_minor": 5
}

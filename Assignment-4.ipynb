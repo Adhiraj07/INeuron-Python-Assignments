{
 "cells": [
  {
   "cell_type": "raw",
   "id": "49b9e4e7",
   "metadata": {},
   "source": [
    "1. What exactly is []? \n",
    "The list which does not contains any elements,i.e, an empty list\n"
   ]
  },
  {
   "cell_type": "raw",
   "id": "7faafa82",
   "metadata": {},
   "source": [
    "2. In a list of values stored in a variable called spam, how would you assign the value 'hello' as the third value? (Assume [2, 4, 6, 8, 10] are in spam.) "
   ]
  },
  {
   "cell_type": "code",
   "execution_count": 2,
   "id": "08860936",
   "metadata": {},
   "outputs": [
    {
     "data": {
      "text/plain": [
       "[2, 4, 'hello', 6, 8, 10]"
      ]
     },
     "execution_count": 2,
     "metadata": {},
     "output_type": "execute_result"
    }
   ],
   "source": [
    "spam=[2,4,6,8,10]\n",
    "spam.insert(2,\"hello\")\n",
    "spam"
   ]
  },
  {
   "cell_type": "raw",
   "id": "76e13dd9",
   "metadata": {},
   "source": [
    "Let's pretend the spam includes the list ['a', 'b', 'c', 'd'] for the next three queries. "
   ]
  },
  {
   "cell_type": "raw",
   "id": "ee8ddb27",
   "metadata": {},
   "source": [
    "3. What is the value of spam[int(int('3' * 2) / 11)]? "
   ]
  },
  {
   "cell_type": "code",
   "execution_count": 15,
   "id": "4b663d51",
   "metadata": {},
   "outputs": [
    {
     "data": {
      "text/plain": [
       "'d'"
      ]
     },
     "execution_count": 15,
     "metadata": {},
     "output_type": "execute_result"
    }
   ],
   "source": [
    "spam1=['a','b','c','d']\n",
    "spam1[int(int('3' * 2) / 11)]"
   ]
  },
  {
   "cell_type": "raw",
   "id": "a5802e95",
   "metadata": {},
   "source": [
    "4. What is the value of spam[-1]? \n",
    "Ans: d"
   ]
  },
  {
   "cell_type": "raw",
   "id": "835b8a68",
   "metadata": {},
   "source": [
    "5. What is the value of spam[:2]? \n",
    "\n",
    "['a', 'b']"
   ]
  },
  {
   "cell_type": "raw",
   "id": "f6d06cec",
   "metadata": {},
   "source": [
    "Let's pretend bacon has the list [3.14, 'cat,' 11, 'cat,' True] for the next three questions."
   ]
  },
  {
   "cell_type": "raw",
   "id": "2c230d72",
   "metadata": {},
   "source": [
    "6. What is the value of bacon.index('cat')? \n",
    "Ans: 1"
   ]
  },
  {
   "cell_type": "raw",
   "id": "d0d0f149",
   "metadata": {},
   "source": [
    "7. How does bacon.append(99) change the look of the list value in bacon? \n",
    "Ans: [3.14, 'cat', 11, 'cat', True, 99] //append in last position"
   ]
  },
  {
   "cell_type": "raw",
   "id": "8cb6f9dd",
   "metadata": {},
   "source": [
    "8. How does bacon.remove('cat') change the look of the list in bacon? \n",
    "Ans:[3.14, 11, 'cat', True, 99] //it will remove the first occurence of given elements"
   ]
  },
  {
   "cell_type": "raw",
   "id": "4956aa6d",
   "metadata": {},
   "source": [
    "9. What are the list concatenation and list replication operators? \n",
    "The operator for list concatenation is +, \n",
    "the operator for replication is *. (This is the same as for strings.)"
   ]
  },
  {
   "cell_type": "code",
   "execution_count": 37,
   "id": "97256fcb",
   "metadata": {},
   "outputs": [
    {
     "name": "stdout",
     "output_type": "stream",
     "text": [
      "[1, 2, 3, 4, 5, 6, 7, 8]\n"
     ]
    },
    {
     "data": {
      "text/plain": [
       "[1, 2, 3, 4, 1, 2, 3, 4]"
      ]
     },
     "execution_count": 37,
     "metadata": {},
     "output_type": "execute_result"
    }
   ],
   "source": [
    "l1=[1,2,3,4]\n",
    "l2=[5,6,7,8]\n",
    "l3=l1+l2 #concatenation\n",
    "print(l3)\n",
    "\n",
    "l4=l1*2#replication\n",
    "l4"
   ]
  },
  {
   "cell_type": "raw",
   "id": "93d029c2",
   "metadata": {},
   "source": [
    "10. What is difference between the list methods append() and insert()? \n",
    "\n",
    "ans:Append:The element passed as an argument is appended to the end of the list.\n",
    "           eg. l=[\"Hello\",\"world]\n",
    "               l.append(\"python\")\n",
    "               l=[\"Hello\",\"world\", \"python\"]\n",
    "    Insert: insert() inserts and item in a specified position in the list.\n",
    "           eg. l.insert(1,'hi')\n",
    "               l=[\"Hello\",\"hi\",\"world\", \"python\"]\n",
    "   "
   ]
  },
  {
   "cell_type": "raw",
   "id": "f9e625a5",
   "metadata": {},
   "source": [
    "11. What are the two methods for removing items from a list? \n",
    "Ans: remove()----> It helps to remove the very first given element matching from the list.\n",
    "pop()---->  The pop() method removes an element from the list based on the index given.\n",
    "clear()--->\tThe clear() method will remove all the elements present in the list.\n"
   ]
  },
  {
   "cell_type": "raw",
   "id": "f4f3d869",
   "metadata": {},
   "source": [
    "12. Describe how list values and string values are identical. \n",
    "Ans:\n",
    "     A string is a sequence of characters between single or double quotes\n",
    "     A list is a sequence of items, where each item could be any type (an integer, a float, a string, etc).\n",
    "     \n",
    "    Both strings and lists have lengths: a string's length is the number of characters in the string; a list's length is       the number of items in the list.  \n",
    "    \n",
    "    The in operators works for both string as well as for list.\n",
    "    "
   ]
  },
  {
   "cell_type": "raw",
   "id": "28606f2d",
   "metadata": {},
   "source": [
    "13. What's the difference between tuples and lists? \n",
    "Answr:\n",
    "     Lists are mutable \n",
    "     Lists are better used for performing the operation like insertion and deletion\n",
    "     List consumes more memory\n",
    "     \n",
    "     Tuples are immutable\n",
    "     Tuple are better for performing the operation like accessing the elements\n",
    "     Tuple consumes less memory"
   ]
  },
  {
   "cell_type": "raw",
   "id": "c84dc9a7",
   "metadata": {},
   "source": [
    "14. How do you type a tuple value that only contains the integer 42? \n",
    "tuple=(42,) #note comma will be must\n"
   ]
  },
  {
   "cell_type": "raw",
   "id": "66346eb0",
   "metadata": {},
   "source": [
    "15. How do you get a list value's tuple form? How do you get a tuple value's list form? \n",
    "By using tuple() we can get the list into tuple form, and by using list() we can get the tuple values to list form"
   ]
  },
  {
   "cell_type": "code",
   "execution_count": 24,
   "id": "41d8e5e9",
   "metadata": {},
   "outputs": [
    {
     "name": "stdout",
     "output_type": "stream",
     "text": [
      "(1, 2, 'a')\n"
     ]
    },
    {
     "data": {
      "text/plain": [
       "tuple"
      ]
     },
     "execution_count": 24,
     "metadata": {},
     "output_type": "execute_result"
    }
   ],
   "source": [
    "l1=[1,2,\"a\"]\n",
    "t1=tuple(l1)\n",
    "print(t1)\n",
    "type(t1)"
   ]
  },
  {
   "cell_type": "code",
   "execution_count": 25,
   "id": "323bbcdf",
   "metadata": {},
   "outputs": [
    {
     "name": "stdout",
     "output_type": "stream",
     "text": [
      "<class 'tuple'>\n",
      "<class 'list'>\n"
     ]
    }
   ],
   "source": [
    "t2=(1,3,4)\n",
    "print(type(t2))\n",
    "\n",
    "l2=list(t2)\n",
    "print(type(l2))\n"
   ]
  },
  {
   "cell_type": "raw",
   "id": "a7e5c2c5",
   "metadata": {},
   "source": [
    "16. Variables that \"contain\" list values are not necessarily lists themselves. Instead, what do they contain? \n",
    "Ans: Python uses references whenever variables must store values of mutable data types, such as lists or dictionaries. \n",
    "    For values of immutable data types such as strings, integers, or tuples, Python variables will store the value itself.\n",
    "    so Variable contains refrences rather than list values.\n",
    "    "
   ]
  },
  {
   "cell_type": "raw",
   "id": "2d894961",
   "metadata": {},
   "source": [
    "17. How do you distinguish between copy.copy() and copy.deepcopy()? \n",
    "\n",
    "Python shallow copy is a feature that allows you to make a new object copy of an existing collection object. When we attempt to replicate a collection object with a shallow copy, it creates a new collection object and stores references to the original object’s elements."
   ]
  },
  {
   "cell_type": "code",
   "execution_count": 27,
   "id": "f75bb5ce",
   "metadata": {},
   "outputs": [
    {
     "name": "stdout",
     "output_type": "stream",
     "text": [
      "Old list: [[1, 2, 3], [4, 5, 6], [7, 8, 9]]\n",
      "New list: [[1, 2, 3], [4, 5, 6], [7, 8, 9]]\n"
     ]
    }
   ],
   "source": [
    "import copy\n",
    "\n",
    "old_list = [[1, 2, 3], [4, 5, 6], [7, 8, 9]]\n",
    "new_list = copy.copy(old_list) #shallow copy\n",
    "\n",
    "print('Old list:', old_list)\n",
    "print('New list:', new_list)"
   ]
  },
  {
   "cell_type": "code",
   "execution_count": 28,
   "id": "9f2c7463",
   "metadata": {},
   "outputs": [
    {
     "name": "stdout",
     "output_type": "stream",
     "text": [
      "Old list: [[1, 2, 3], [4, 5, 6], [7, 8, 9], [10, 11, 12]]\n",
      "New list: [[1, 2, 3], [4, 5, 6], [7, 8, 9]]\n"
     ]
    }
   ],
   "source": [
    "old_list = [[1, 2, 3], [4, 5, 6], [7, 8, 9]]\n",
    "new_list = copy.copy(old_list)\n",
    "\n",
    "old_list.append([10, 11, 12])\n",
    "\n",
    "print('Old list:', old_list)\n",
    "print('New list:', new_list)\n"
   ]
  },
  {
   "cell_type": "code",
   "execution_count": 29,
   "id": "42265795",
   "metadata": {},
   "outputs": [
    {
     "name": "stdout",
     "output_type": "stream",
     "text": [
      "Old list: [[1, 'XYZ', 3], [4, 5, 6], [7, 8, 9]]\n",
      "New list: [[1, 'XYZ', 3], [4, 5, 6], [7, 8, 9]]\n"
     ]
    }
   ],
   "source": [
    "old_list = [[1, 2, 3], [4, 5, 6], [7, 8, 9]]\n",
    "new_list = copy.copy(old_list)\n",
    "\n",
    "old_list[0][1] = 'XYZ'\n",
    "\n",
    "print('Old list:', old_list)\n",
    "print('New list:', new_list)\n"
   ]
  },
  {
   "cell_type": "raw",
   "id": "c898e32c",
   "metadata": {},
   "source": [
    "it makes a new duplicate of the new object that recursively adds copies of the items or values in the original list. \n",
    "If we make modifications to the copy object, the changes are not reflected in the original objects. \n",
    "This is done in Python with the ‘deepcopy()‘ method.\n"
   ]
  },
  {
   "cell_type": "code",
   "execution_count": 31,
   "id": "c9405f67",
   "metadata": {},
   "outputs": [
    {
     "name": "stdout",
     "output_type": "stream",
     "text": [
      "Old list: [[1, 2, 3], [4, 5, 6], [7, 8, 9]]\n",
      "New list: [[1, 2, 3], [4, 5, 6], [7, 8, 9]]\n"
     ]
    }
   ],
   "source": [
    "old_list = [[1, 2, 3], [4, 5, 6], [7, 8, 9]]\n",
    "new_list = copy.deepcopy(old_list)\n",
    "\n",
    "print('Old list:', old_list)\n",
    "print('New list:', new_list)\n"
   ]
  },
  {
   "cell_type": "code",
   "execution_count": 32,
   "id": "c12c964c",
   "metadata": {},
   "outputs": [
    {
     "name": "stdout",
     "output_type": "stream",
     "text": [
      "Old list: [[1, 'XYZ', 3], [4, 5, 6], [7, 8, 9]]\n",
      "New list: [[1, 2, 3], [4, 5, 6], [7, 8, 9]]\n"
     ]
    }
   ],
   "source": [
    "\n",
    "old_list = [[1, 2, 3], [4, 5, 6], [7, 8, 9]]\n",
    "new_list = copy.deepcopy(old_list)\n",
    "\n",
    "old_list[0][1] = 'XYZ'\n",
    "\n",
    "print('Old list:', old_list)\n",
    "print('New list:', new_list)\n",
    "\n",
    "                "
   ]
  },
  {
   "cell_type": "code",
   "execution_count": null,
   "id": "c3f0a08d",
   "metadata": {},
   "outputs": [],
   "source": []
  }
 ],
 "metadata": {
  "kernelspec": {
   "display_name": "Python 3 (ipykernel)",
   "language": "python",
   "name": "python3"
  },
  "language_info": {
   "codemirror_mode": {
    "name": "ipython",
    "version": 3
   },
   "file_extension": ".py",
   "mimetype": "text/x-python",
   "name": "python",
   "nbconvert_exporter": "python",
   "pygments_lexer": "ipython3",
   "version": "3.9.12"
  }
 },
 "nbformat": 4,
 "nbformat_minor": 5
}

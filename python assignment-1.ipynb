{
 "cells": [
  {
   "cell_type": "raw",
   "id": "1b830af9",
   "metadata": {},
   "source": [
    "1. In the below elements which of them are values or an expression? eg:- values can be integer or string and expressions will be mathematical operators. \n",
    "\n",
    "*  --> Expression\n",
    "\n",
    "'hello' ---> Values\n",
    "\n",
    "-87.8 ---values\n",
    "\n",
    "-  ---> expression\n",
    "\n",
    "/  ----> Expression\n",
    "\n",
    "+  ----> Expression\n",
    "\n",
    "6  ----->values"
   ]
  },
  {
   "cell_type": "raw",
   "id": "0fdfe70e",
   "metadata": {},
   "source": [
    "2. What is the difference between string and variable? \n",
    "Answer- A variable is something that can hold a value.\n",
    "\n",
    "        A string is one of many types of values.\n",
    "\n",
    "        Strings represent texts. Integers represent whole numbers, etc.\n",
    "\n",
    "        A variable is a “place” where you can store any of these types of values, but is not in itself a value."
   ]
  },
  {
   "cell_type": "raw",
   "id": "27b66f77",
   "metadata": {},
   "source": [
    "3. Describe three different data types. \n",
    "Ans:\n",
    " Numeric Types:\n",
    "\n",
    "    int: Integer numbers without decimal points.\n",
    "    float: Floating-point numbers with decimal points.\n",
    "    complex: Numbers with a real and imaginary part.\n",
    " Sequence Types:\n",
    "\n",
    "    str: Strings of characters, such as \"hello\" or \"Python\".\n",
    "    list: Ordered and mutable sequences of items.\n",
    "    tuple: Ordered and immutable sequences of items.\n",
    "    range: Represents a sequence of numbers.\n",
    "    \n",
    "Set Types:\n",
    "\n",
    "set: Unordered and mutable collection of unique elements.\n",
    "frozenset: Unordered and immutable collection of unique elements.\n",
    "\n",
    "\n"
   ]
  },
  {
   "cell_type": "raw",
   "id": "e798b694",
   "metadata": {},
   "source": [
    "\n",
    "An expression in Python is a combination of values, variables, operators, and function calls that evaluates to a single value. Expressions are the building blocks of Python programs and are used to perform computations and produce results.\n",
    "\n",
    "In Python, expressions can include the following components:\n",
    "\n",
    "Literals: Literal values, such as numbers (42, 3.14) or strings (\"Hello\"), are expressions on their own.\n",
    "\n",
    "Variables: Variables store values and can be used in expressions. For example, if you have x = 5, then x is an expression that evaluates to the value 5.\n",
    "\n",
    "Operators: Operators perform operations on values and variables. Python provides a wide range of operators, including arithmetic operators (+, -, *, /, etc.), comparison operators (<, >, ==, etc.), logical operators (and, or, not), assignment operators (=, +=, etc.), and more. When used in an expression, operators combine values or variables to produce a new value.\n",
    "\n",
    "Function calls: Python has built-in functions, and we can also define our own functions. Function calls can be part of an expression, where the function takes input arguments and returns a value. For example, len(\"Hello\") is an expression that calls the len() function to determine the length of the string \"Hello\".\n",
    "\n",
    "Parentheses: Parentheses ( ) are used to group expressions and control the order of evaluation. They are used to enforce precedence and clarify the intended meaning of an expression.\n",
    "\n",
    "The primary purpose of an expression is to compute a value. When we execute an expression in Python, it is evaluated, and the result is returned. Expressions can be used in various contexts, such as assigning values to variables, passing arguments to functions, or as conditions in control structures like if statements and loops.\n",
    "\n",
    "For example, consider the expression 2 + 3 * 4. It combines the addition operator + and multiplication operator * to calculate a value. The expression evaluates to 14, following the order of operations (multiplication before addition). This result can then be assigned to a variable, printed, or used in further computations within the program.\n",
    "\n",
    "In summary, expressions in Python are combinations of values, variables, operators, and function calls that produce a single value when evaluated. They are fundamental for performing computations and manipulating data in Python programs.\n"
   ]
  },
  {
   "cell_type": "raw",
   "id": "043ee3b2",
   "metadata": {},
   "source": [
    "5. This assignment statements, like spam = 10. What is the difference between an expression and a statement? \n",
    "Ans: A combination of operands and operators is called an expression. The expression in Python produces some value or result after being interpreted by the Python interpreter. An expression in Python is a combination of operators and operands.\n",
    "\n",
    "A statement is not evaluated for some results. A statement is used for creating variables or for displaying values.\n",
    "\n",
    "a=a+20 // it is a expression \n",
    "spam=10 //Statement\n"
   ]
  },
  {
   "cell_type": "raw",
   "id": "3081ee04",
   "metadata": {},
   "source": [
    "6. After running the following code, what does the variable bacon contain? \n",
    "\n",
    "bacon = 22 \n",
    "\n",
    "bacon + 1 \n",
    "\n",
    "Answer->  The bacone variable will contains the 22 because we are not performing incriment operation in bacon, if we want to change the value the expression should be \"bacon=bacon+1\""
   ]
  },
  {
   "cell_type": "raw",
   "id": "6f1e879c",
   "metadata": {},
   "source": [
    "7. What should the values of the following two terms be? \n",
    "Answer: 'spam' + 'spamspam'  //-->  'spamspamspam'\n",
    "        'spam' * 3 //-->spamspamspam"
   ]
  },
  {
   "cell_type": "raw",
   "id": "7e097c82",
   "metadata": {},
   "source": [
    "8. Why is eggs a valid variable name while 100 is invalid? \n",
    "Answer: egges will be a valid variable name but 100 is invalid because the variable is not start with a number, \n",
    "        it neither contains symbol"
   ]
  },
  {
   "cell_type": "raw",
   "id": "a3836447",
   "metadata": {},
   "source": [
    "9. What three functions can be used to get the integer, floating-point number, or string version of a value?\n",
    "Answer:The int() , float() , and str( ) functions will evaluate to the integer, floating-point number, and string versions of a value\n"
   ]
  },
  {
   "cell_type": "raw",
   "id": "f17c1a81",
   "metadata": {},
   "source": [
    "10. Why does this expression cause an error? How can you fix it? \n",
    "   'I have eaten ' + 99 + ' burritos.' \n",
    "Answer:  In python the number cannot be concatinate with the string, the string can only concatenate with the string only.\n",
    "         we can write above statement as 'I have eaten ' + str(99) + ' burritos.' for the avoiding the error.\n",
    "         "
   ]
  },
  {
   "cell_type": "code",
   "execution_count": null,
   "id": "25dd1d7f",
   "metadata": {},
   "outputs": [],
   "source": []
  },
  {
   "cell_type": "code",
   "execution_count": null,
   "id": "c62a0a6b",
   "metadata": {},
   "outputs": [],
   "source": []
  }
 ],
 "metadata": {
  "kernelspec": {
   "display_name": "Python 3 (ipykernel)",
   "language": "python",
   "name": "python3"
  },
  "language_info": {
   "codemirror_mode": {
    "name": "ipython",
    "version": 3
   },
   "file_extension": ".py",
   "mimetype": "text/x-python",
   "name": "python",
   "nbconvert_exporter": "python",
   "pygments_lexer": "ipython3",
   "version": "3.9.12"
  }
 },
 "nbformat": 4,
 "nbformat_minor": 5
}

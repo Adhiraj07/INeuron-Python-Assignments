{
 "cells": [
  {
   "cell_type": "raw",
   "id": "0580e8b9",
   "metadata": {},
   "source": [
    "1. How do you distinguish between shutil.copy() and shutil.copytree()?\n",
    "shutil.copy()\n",
    "\n",
    "The shutil.copy() function is used to copy a single file from a source location to a destination location.\n",
    "It takes two arguments: the source file path and the destination file path.The source file is copied to the destination, which can be a directory or a new file path.\n",
    "If the destination path specifies an existing file, it will be overwritten.\n",
    "This function copies only the individual file, not the entire directory structure.\n",
    "\n",
    "The shutil.copytree() function is used to recursively copy an entire directory tree from a source directory to a destination directory.It takes two arguments: the source directory path and the destination directory path.\n",
    "The source directory and its contents, including subdirectories and files, are copied to the destination directory.\n",
    "If the destination directory already exists, an error will occur. The destination directory must not exist beforehand.\n",
    "This function preserves the directory structure, including subdirectories and their files."
   ]
  },
  {
   "cell_type": "raw",
   "id": "495010ee",
   "metadata": {},
   "source": [
    "\n",
    "2. What function is used to rename files??\n",
    "rename() is used to rename the files\n",
    "Use the os.rename() method to rename a file in a folder. \n",
    "Pass both the old name and a new name to the os.rename(old_name, new_name) function to rename a file."
   ]
  },
  {
   "cell_type": "raw",
   "id": "042e1222",
   "metadata": {},
   "source": [
    "3. What is the difference between the delete functions in the send2trash and shutil modules?\n",
    " The send2trash functions will move a file or folder to the recycle bin, while shutil functions will permanently delete files and folders."
   ]
  },
  {
   "cell_type": "raw",
   "id": "287af7cf",
   "metadata": {},
   "source": [
    "4.ZipFile objects have a close() method just like File objects’ close() method. What ZipFile method is\n",
    "equivalent to File objects’ open() method?\n",
    "\n",
    "The zipfile. ZipFile() function is equivalent to the open() function; the first argument is the filename, and the second argument is the mode to open the ZIP file in (read, write, or append)."
   ]
  },
  {
   "cell_type": "raw",
   "id": "5c379717",
   "metadata": {},
   "source": [
    "5. Create a programme that searches a folder tree for files with a certain file extension (such as .pdf\n",
    "or .jpg). Copy these files from whatever location they are in to a new folder.\n",
    "\n"
   ]
  },
  {
   "cell_type": "code",
   "execution_count": null,
   "id": "6f3c970c",
   "metadata": {},
   "outputs": [],
   "source": [
    "import os\n",
    "import shutil\n",
    "\n",
    "source_folder = \"C:\\\\Users\\\\91877\"\n",
    "destination_folder = \"C:\\\\Users\\\\91877\\\\Practice folder\"\n",
    "file_extension = \".pdf\"\n",
    "\n",
    "for root, dirs, files in os.walk(\"C:\\\\Users\\\\91877\"):\n",
    "     for file in files:\n",
    "            if file.endswith(\".pdf\" or \".jpg\"):\n",
    "                source_path = os.path.join(root, file)\n",
    "                destination_path = os.path.join(destination_folder, file)\n",
    "                \n",
    "                shutil.copy2(source_path, destination_path)\n",
    "                print(f\"Copied {file} to {destination_folder}\")\n"
   ]
  },
  {
   "cell_type": "code",
   "execution_count": null,
   "id": "6a6b59e9",
   "metadata": {},
   "outputs": [],
   "source": []
  },
  {
   "cell_type": "code",
   "execution_count": null,
   "id": "85e523c9",
   "metadata": {},
   "outputs": [],
   "source": []
  }
 ],
 "metadata": {
  "kernelspec": {
   "display_name": "Python 3 (ipykernel)",
   "language": "python",
   "name": "python3"
  },
  "language_info": {
   "codemirror_mode": {
    "name": "ipython",
    "version": 3
   },
   "file_extension": ".py",
   "mimetype": "text/x-python",
   "name": "python",
   "nbconvert_exporter": "python",
   "pygments_lexer": "ipython3",
   "version": "3.9.12"
  }
 },
 "nbformat": 4,
 "nbformat_minor": 5
}

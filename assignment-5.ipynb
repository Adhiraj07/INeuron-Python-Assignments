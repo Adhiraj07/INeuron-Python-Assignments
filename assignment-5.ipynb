{
 "cells": [
  {
   "cell_type": "raw",
   "id": "e9ad0c31",
   "metadata": {},
   "source": [
    "1. What does an empty dictionary's code look like? \n",
    "Ans: "
   ]
  },
  {
   "cell_type": "code",
   "execution_count": 1,
   "id": "2653e83c",
   "metadata": {},
   "outputs": [],
   "source": [
    "dict1={}"
   ]
  },
  {
   "cell_type": "raw",
   "id": "e07ac0a2",
   "metadata": {},
   "source": [
    "2. What is the value of a dictionary value with the key 'foo' and the value 42? "
   ]
  },
  {
   "cell_type": "code",
   "execution_count": 4,
   "id": "668efd15",
   "metadata": {},
   "outputs": [
    {
     "data": {
      "text/plain": [
       "{'foo': 42}"
      ]
     },
     "execution_count": 4,
     "metadata": {},
     "output_type": "execute_result"
    }
   ],
   "source": [
    "dict2={'foo':42}\n",
    "dict2"
   ]
  },
  {
   "cell_type": "raw",
   "id": "59e0acc5",
   "metadata": {},
   "source": [
    "3. What is the most significant distinction between a dictionary and a list? \n",
    "Ans:\n",
    "    List is the most versatile Sequence available in Python, which can be written as a list of comma-separated values           between square brackets.\n",
    "    eg: list=[45,56,76]\n",
    "    \n",
    "    Dictionary is an unordered collection of key-value pairs. Dictionaries are used to handle large amount of data.\n",
    "    dict={'a':24, 'b'=56 }\n",
    "    "
   ]
  },
  {
   "cell_type": "raw",
   "id": "0363bb90",
   "metadata": {},
   "source": [
    "4. What happens if you try to access spam['foo'] if spam is {'bar': 100}? "
   ]
  },
  {
   "cell_type": "code",
   "execution_count": 7,
   "id": "b5a44940",
   "metadata": {},
   "outputs": [
    {
     "ename": "KeyError",
     "evalue": "'foo'",
     "output_type": "error",
     "traceback": [
      "\u001b[1;31m---------------------------------------------------------------------------\u001b[0m",
      "\u001b[1;31mKeyError\u001b[0m                                  Traceback (most recent call last)",
      "Input \u001b[1;32mIn [7]\u001b[0m, in \u001b[0;36m<cell line: 2>\u001b[1;34m()\u001b[0m\n\u001b[0;32m      1\u001b[0m spam\u001b[38;5;241m=\u001b[39m{\u001b[38;5;124m'\u001b[39m\u001b[38;5;124mbar\u001b[39m\u001b[38;5;124m'\u001b[39m: \u001b[38;5;241m100\u001b[39m}\n\u001b[1;32m----> 2\u001b[0m \u001b[43mspam\u001b[49m\u001b[43m[\u001b[49m\u001b[38;5;124;43m'\u001b[39;49m\u001b[38;5;124;43mfoo\u001b[39;49m\u001b[38;5;124;43m'\u001b[39;49m\u001b[43m]\u001b[49m\n",
      "\u001b[1;31mKeyError\u001b[0m: 'foo'"
     ]
    }
   ],
   "source": [
    "spam={'bar': 100}\n",
    "spam['foo'] #it will through keyerror"
   ]
  },
  {
   "cell_type": "raw",
   "id": "186d38bb",
   "metadata": {},
   "source": [
    "5. If a dictionary is stored in spam, what is the difference between the expressions 'cat' in spam and 'cat' in                spam.keys()? \n",
    "Ans: there is no difference as \"in\" keyword is  used to check if a value is present in a sequence or not "
   ]
  },
  {
   "cell_type": "code",
   "execution_count": 4,
   "id": "a77012bf",
   "metadata": {},
   "outputs": [
    {
     "data": {
      "text/plain": [
       "True"
      ]
     },
     "execution_count": 4,
     "metadata": {},
     "output_type": "execute_result"
    }
   ],
   "source": [
    "spam={'cat':\"20\"}\n",
    "\n",
    "'cat' in spam\n"
   ]
  },
  {
   "cell_type": "code",
   "execution_count": 5,
   "id": "aa82a97b",
   "metadata": {},
   "outputs": [
    {
     "data": {
      "text/plain": [
       "True"
      ]
     },
     "execution_count": 5,
     "metadata": {},
     "output_type": "execute_result"
    }
   ],
   "source": [
    "'cat' in spam.keys()"
   ]
  },
  {
   "cell_type": "raw",
   "id": "190a88a8",
   "metadata": {},
   "source": [
    "6. If a dictionary is stored in spam, what is the difference between the expressions \n",
    "'cat' in spam and 'cat' in spam.values()? \n",
    "first statement is tru but oother is false"
   ]
  },
  {
   "cell_type": "raw",
   "id": "64bac968",
   "metadata": {},
   "source": [
    "7. What is a shortcut for the following code? \n",
    "if 'color' not in spam: \n",
    "    spam['color'] = 'black' \n",
    "\n"
   ]
  },
  {
   "cell_type": "code",
   "execution_count": 6,
   "id": "d5a65c85",
   "metadata": {},
   "outputs": [
    {
     "data": {
      "text/plain": [
       "'black'"
      ]
     },
     "execution_count": 6,
     "metadata": {},
     "output_type": "execute_result"
    }
   ],
   "source": [
    "spam.setdefault('color', 'black')"
   ]
  },
  {
   "cell_type": "raw",
   "id": "99315359",
   "metadata": {},
   "source": [
    "The setdefault() method checks if the key 'color' exists in the spam dictionary. \n",
    "If it does, it returns the corresponding value. \n",
    "If the key doesn't exist, it adds the key-value pair to the dictionary with the default value 'black'. \n",
    "\n"
   ]
  },
  {
   "cell_type": "raw",
   "id": "0ced9234",
   "metadata": {},
   "source": [
    " How do you \"pretty print\" dictionary values using which module and function? \n",
    "The module used is the pprint module within which we have the pprint function of the same name. The function can be implemented to pretty-print the specific string or object."
   ]
  },
  {
   "cell_type": "code",
   "execution_count": 7,
   "id": "0e29d860",
   "metadata": {},
   "outputs": [
    {
     "name": "stdout",
     "output_type": "stream",
     "text": [
      "{   'a': 1,\n",
      "    'b': 2,\n",
      "    'c': 3,\n",
      "    'd': 4}\n"
     ]
    }
   ],
   "source": [
    "from pprint import pprint\n",
    "dict_ = {\"a\": 1, \"b\": 2, \"c\": 3, \"d\": 4}\n",
    "pprint(dict_, width=1, indent=4)"
   ]
  },
  {
   "cell_type": "code",
   "execution_count": null,
   "id": "c9fe5944",
   "metadata": {},
   "outputs": [],
   "source": []
  }
 ],
 "metadata": {
  "kernelspec": {
   "display_name": "Python 3 (ipykernel)",
   "language": "python",
   "name": "python3"
  },
  "language_info": {
   "codemirror_mode": {
    "name": "ipython",
    "version": 3
   },
   "file_extension": ".py",
   "mimetype": "text/x-python",
   "name": "python",
   "nbconvert_exporter": "python",
   "pygments_lexer": "ipython3",
   "version": "3.9.12"
  }
 },
 "nbformat": 4,
 "nbformat_minor": 5
}

{
 "cells": [
  {
   "cell_type": "raw",
   "id": "90d289a5",
   "metadata": {},
   "source": [
    "1. What is the name of the feature responsible for generating Regex objects? \n",
    "A RegEx, or Regular Expression, is a sequence of characters that forms a search pattern.\n",
    "Python has a built-in package called re, which can be used to work with Regular Expressions."
   ]
  },
  {
   "cell_type": "code",
   "execution_count": 3,
   "id": "121721d1",
   "metadata": {},
   "outputs": [
    {
     "data": {
      "text/plain": [
       "re.compile(r'string', re.UNICODE)"
      ]
     },
     "execution_count": 3,
     "metadata": {},
     "output_type": "execute_result"
    }
   ],
   "source": [
    "\n",
    "import re\n",
    "re.compile(\"string\")\n"
   ]
  },
  {
   "cell_type": "raw",
   "id": "47bd1429",
   "metadata": {},
   "source": [
    "2. Why do raw strings often appear in Regex objects? \n",
    "Raw strings are used so that backslashes do not have to be escaped."
   ]
  },
  {
   "cell_type": "raw",
   "id": "54a8db31",
   "metadata": {},
   "source": [
    "3. What is the return value of the search() method? "
   ]
  },
  {
   "cell_type": "raw",
   "id": "6a2f6c26",
   "metadata": {},
   "source": [
    "The search() function searches the string for a match, and returns a Match object if there is a match.\n",
    "\n",
    "If there is more than one match, only the first occurrence of the match will be returned and \n",
    "if there is no value it return none\n"
   ]
  },
  {
   "cell_type": "code",
   "execution_count": 14,
   "id": "65d0a83a",
   "metadata": {},
   "outputs": [
    {
     "name": "stdout",
     "output_type": "stream",
     "text": [
      "<re.Match object; span=(10, 13), match='new'>\n"
     ]
    }
   ],
   "source": [
    "import re\n",
    "text=\"This is a new book\"\n",
    "print(re.search(\"new\",text))"
   ]
  },
  {
   "cell_type": "raw",
   "id": "827a7ba9",
   "metadata": {},
   "source": [
    "4. From a Match item, how do you get the actual strings that match the pattern? \n",
    "Match objects have a group() method that returns the actual matched text from the searched string."
   ]
  },
  {
   "cell_type": "raw",
   "id": "c3c89b33",
   "metadata": {},
   "source": [
    "5. In the regex which created from the r'(\\d\\d\\d)-(\\d\\d\\d-\\d\\d\\d\\d)', what does group zero cover? Group 2? Group 1? \n"
   ]
  },
  {
   "cell_type": "code",
   "execution_count": 19,
   "id": "f0837765",
   "metadata": {},
   "outputs": [
    {
     "name": "stdout",
     "output_type": "stream",
     "text": [
      "415-555-4242\n",
      "415\n",
      "('415', '555-4242')\n"
     ]
    }
   ],
   "source": [
    "phoneNumRegex = re.compile(r'(\\d\\d\\d)-(\\d\\d\\d-\\d\\d\\d\\d)')\n",
    "mo = phoneNumRegex.search('My number is 415-555-4242.')\n",
    "print(mo.group(0)) #match.group(0) always returns the fully matched string\n",
    "print(mo.group(1)) # match.group(1) match.group(2), ... return the capture\n",
    "print(mo.groups(2))"
   ]
  },
  {
   "cell_type": "raw",
   "id": "7cea8320",
   "metadata": {},
   "source": [
    "6. In standard expression syntax, parentheses and intervals have distinct meanings.\n",
    "How can you tell a regex that you want it to fit real parentheses and periods? \n",
    "\n",
    "Ans: Periods and parentheses can be escaped with a backslash: \\., \\(, and \\).\n"
   ]
  },
  {
   "cell_type": "raw",
   "id": "f8d96f48",
   "metadata": {},
   "source": [
    "7. The findall() method returns a string list or a list of string tuples.\n",
    "What causes it to return one of the two options? \n",
    "\n",
    "ANs: The findall() function scans the string from left to right and finds all the matches of the pattern in the string.\n",
    "\n",
    "     The result of the findall() function depends on the pattern:\n",
    "\n",
    "     If the pattern has no capturing groups, the findall() function returns a list of strings that match the whole pattern.\n",
    "     If the pattern has one capturing group, the findall() function returns a list of strings that match the group.\n",
    "     If the pattern has multiple capturing groups, the findall() function returns the tuples of strings that match the groups.\n"
   ]
  },
  {
   "cell_type": "code",
   "execution_count": 8,
   "id": "88912c6f",
   "metadata": {},
   "outputs": [
    {
     "name": "stdout",
     "output_type": "stream",
     "text": [
      "['black', 'blue']\n"
     ]
    }
   ],
   "source": [
    "import re\n",
    "s = \"black, blue and brown\"\n",
    "pattern = r'bl\\w+'\n",
    "matches = re.findall(pattern,s)\n",
    "\n",
    "print(matches)"
   ]
  },
  {
   "cell_type": "code",
   "execution_count": 9,
   "id": "c08a80e7",
   "metadata": {},
   "outputs": [
    {
     "data": {
      "text/plain": [
       "['ack', 'ue']"
      ]
     },
     "execution_count": 9,
     "metadata": {},
     "output_type": "execute_result"
    }
   ],
   "source": [
    "s = \"black, blue and brown\"\n",
    "pattern = r'bl(\\w+)'\n",
    "re.findall(pattern,s)"
   ]
  },
  {
   "cell_type": "code",
   "execution_count": 2,
   "id": "8f40c157",
   "metadata": {},
   "outputs": [
    {
     "name": "stdout",
     "output_type": "stream",
     "text": [
      "[('black', 'ack'), ('blue', 'ue')]\n"
     ]
    }
   ],
   "source": [
    "import re\n",
    "\n",
    "s = \"black, blue and brown\"\n",
    "pattern = r'(bl(\\w+))'\n",
    "matches = re.findall(pattern,s)\n",
    "\n",
    "print(matches)"
   ]
  },
  {
   "cell_type": "raw",
   "id": "b60e9a67",
   "metadata": {},
   "source": [
    "8. In standard expressions, what does the | character mean? \n",
    "Means OR (Matches with any of the characters separated by it."
   ]
  },
  {
   "cell_type": "code",
   "execution_count": 3,
   "id": "f0e48eff",
   "metadata": {},
   "outputs": [
    {
     "name": "stdout",
     "output_type": "stream",
     "text": [
      "['falls']\n"
     ]
    }
   ],
   "source": [
    "txt = \"The rain in Spain falls  mainly in the plain!\"\n",
    "\n",
    "#Check if the string contains either \"falls\" or \"stays\":\n",
    "\n",
    "x = re.findall(r\"falls|stays\", txt)\n",
    "\n",
    "if x:\n",
    "  print(x)\n",
    "else:\n",
    "  print(\"No match\")\n"
   ]
  },
  {
   "cell_type": "raw",
   "id": "d7ada8d0",
   "metadata": {},
   "source": [
    "9. In regular expressions, what does the character stand for? \n",
    "In regular expressions in Python, the character . (dot) is a metacharacter that represents any character except a newline. It matches any single character, regardless of what specific character it is."
   ]
  },
  {
   "cell_type": "code",
   "execution_count": 5,
   "id": "6418d25b",
   "metadata": {},
   "outputs": [
    {
     "name": "stdout",
     "output_type": "stream",
     "text": [
      "Match found!\n"
     ]
    }
   ],
   "source": [
    "string = \"The quick brown fox jumps over the lazy dog.\"\n",
    "pattern = r\"brown.fox\"\n",
    " \n",
    "match = re.findall(pattern, string)\n",
    "if match:\n",
    "    print(\"Match found!\")\n",
    "else:\n",
    "    print(\"Match not found.\")"
   ]
  },
  {
   "cell_type": "raw",
   "id": "b5f06514",
   "metadata": {},
   "source": [
    "10.In regular expressions, what is the difference between the + and * characters? \n",
    "\n",
    "Star (*) symbol matches zero or more occurrences of the regex preceding the * symbol. For example –  \n",
    "\n",
    "ab*c will be matched for the string ac, abc, abbbc, dabc, etc. but will not be matched for abdc because b is\n",
    "not followed by c"
   ]
  },
  {
   "cell_type": "code",
   "execution_count": 10,
   "id": "78e58705",
   "metadata": {},
   "outputs": [
    {
     "name": "stdout",
     "output_type": "stream",
     "text": [
      "Not matched: ab\n",
      "Matched: ac\n",
      "Not matched: adc\n",
      "Matched: dabc\n",
      "Not matched: bad\n",
      "Not matched: bcd\n",
      "Matched: aabbccdd\n",
      "Matched: abbc\n"
     ]
    }
   ],
   "source": [
    "regex = r'ab*c'  \n",
    "\n",
    "strings = [\"ab\", \"ac\",\"adc\", \"dabc\",\"bad\",\"bcd\",\"aabbccdd\",\"abbc\"]\n",
    "\n",
    "for string in strings:\n",
    "    if re.search(regex, string):\n",
    "        print(f'Matched: {string}')\n",
    "    else:\n",
    "        print(f'Not matched: {string}')"
   ]
  },
  {
   "cell_type": "raw",
   "id": "813c03a4",
   "metadata": {},
   "source": [
    "11. What is the difference between {4} and {4,5} in regular expression? \n",
    "\n",
    "Braces match any repetitions preceding regex from m to n both inclusive."
   ]
  },
  {
   "cell_type": "code",
   "execution_count": 89,
   "id": "e3d0b43b",
   "metadata": {},
   "outputs": [
    {
     "name": "stdout",
     "output_type": "stream",
     "text": [
      "Not matched:ac\n",
      "Not matched:adc\n",
      "Not matched:dabc\n",
      "Not matched:bad\n",
      "Not matched:bcd\n",
      "Matched: aabbccdd\n",
      "Not matched:abbc\n",
      "----------------\n",
      "Not matched:ac\n",
      "Not matched:adc\n",
      "Not matched:dabc\n",
      "Not matched:bad\n",
      "Not matched:bcd\n",
      "Matched: aabbccdd\n",
      "Not matched:abbc\n"
     ]
    }
   ],
   "source": [
    "regex = r'a{2,4}' \n",
    "regex2=r'a{2}'\n",
    "\n",
    "strings = [\"ac\", \"adc\", \"dabc\",\"bad\",\"bcd\",\"aabbccdd\",\"abbc\"]\n",
    "\n",
    "for i in strings:\n",
    "    if re.findall(regex,i):\n",
    "        print(f'Matched: {i}')\n",
    "    else:\n",
    "        print(f'Not matched:{i}')\n",
    "print(\"----------------\")        \n",
    "for i in strings:\n",
    "    if re.findall(regex2,i):\n",
    "        print(f'Matched: {i}')\n",
    "    else:\n",
    "        print(f'Not matched:{i}')"
   ]
  },
  {
   "cell_type": "raw",
   "id": "48dae3eb",
   "metadata": {},
   "source": [
    "12. What do you mean by the \\d, \\w, and \\s shorthand character classes signify in regular expressions? "
   ]
  },
  {
   "cell_type": "raw",
   "id": "31572c6f",
   "metadata": {},
   "source": [
    "\\d: Matches any decimal digit, this is equivalent to the set class [0-9]\n",
    "\\w: Matches any alphanumeric character, this is equivalent to the class [a-zA-Z0-9_].\n",
    "\\s: Matches any whitespace character."
   ]
  },
  {
   "cell_type": "raw",
   "id": "b9a8580b",
   "metadata": {},
   "source": [
    " What do means by \\D, \\W, and \\S shorthand character classes signify in regular expressions? \n",
    "\\D: Matches any non-digit character, this is equivalent to the set class [^0-9]\n",
    "\\W:Matches any non-alphanumeric character.\n",
    "\\S:Matches any non-whitespace character"
   ]
  },
  {
   "cell_type": "raw",
   "id": "f0e00edd",
   "metadata": {},
   "source": [
    "15. What is the syntax for matching both numbers and lowercase letters with a character class? \n",
    "To match both numbers and lowercase letters with a character class in regular expressions, we can use character ranges. The syntax for matching both numbers (0-9) and lowercase letters (a-z) in a character class is [0-9a-z]. \n"
   ]
  },
  {
   "cell_type": "code",
   "execution_count": 100,
   "id": "3cd79d24",
   "metadata": {},
   "outputs": [
    {
     "name": "stdout",
     "output_type": "stream",
     "text": [
      "['abc232', 'eddy']\n"
     ]
    }
   ],
   "source": [
    "string=\"abc232CUYSeddy\"\n",
    "pattern= r'[a-z0-9]+'\n",
    "\n",
    "print(re.findall(pattern,string))"
   ]
  },
  {
   "cell_type": "raw",
   "id": "26eb964b",
   "metadata": {},
   "source": [
    "16. What is the procedure for making a normal expression in regax case insensitive? \n"
   ]
  },
  {
   "cell_type": "code",
   "execution_count": 101,
   "id": "0b668c2e",
   "metadata": {},
   "outputs": [
    {
     "name": "stdout",
     "output_type": "stream",
     "text": [
      "['Apple', 'apple']\n"
     ]
    }
   ],
   "source": [
    "pattern = r'apple'\n",
    "string = 'I have an Apple and a banana, but no apple pie.'\n",
    "\n",
    "matches = re.findall(pattern, string, re.IGNORECASE)\n",
    "print(matches)"
   ]
  },
  {
   "cell_type": "raw",
   "id": "ab9c4a2e",
   "metadata": {},
   "source": [
    "17. What does the . character normally match? What does it match if re.DOTALL is passed as 2nd argument in re.compile()? \n",
    "\n",
    "In regular expressions, the . (dot) character normally matches any character except a newline character (\\n). It means that it can match any single character in a string.\n",
    "\n",
    "However, if the re.DOTALL flag is passed as the second argument to the re.compile() function, the . character will match any character, including newline characters. This flag enables the \"dot-all\" mode, where the dot matches any character, regardless of whether it's a newline or not."
   ]
  },
  {
   "cell_type": "code",
   "execution_count": 19,
   "id": "650c5b8f",
   "metadata": {},
   "outputs": [
    {
     "name": "stdout",
     "output_type": "stream",
     "text": [
      "['brown\\nfox']\n",
      "[]\n"
     ]
    }
   ],
   "source": [
    "string = \"The quick brown\\nfox jumps over the lazy dog.\"\n",
    "pattern = re.compile(r'brown.fox',re.DOTALL) #it will include dot\n",
    "\n",
    "pattern2=re.compile(r'brown.fox')\n",
    "print(pattern.findall(string))\n",
    "print(pattern2.findall(string))"
   ]
  },
  {
   "cell_type": "raw",
   "id": "8b34ddd7",
   "metadata": {},
   "source": [
    "18. If numReg = re.compile(r'\\d+'), what will numRegex.sub('X', '11 drummers, 10 pipers, five rings, 4 hen') return? "
   ]
  },
  {
   "cell_type": "code",
   "execution_count": 22,
   "id": "2731e7a2",
   "metadata": {},
   "outputs": [
    {
     "name": "stdout",
     "output_type": "stream",
     "text": [
      "X drummers, X pipers, five rings, X hen\n"
     ]
    }
   ],
   "source": [
    "numReg=re.compile(r'\\d+')\n",
    "substitue=numReg.sub('X',  '11 drummers, 10 pipers, five rings, 4 hen')\n",
    "print(substitue)"
   ]
  },
  {
   "cell_type": "raw",
   "id": "b92bec0f",
   "metadata": {},
   "source": [
    "19. What does passing re.VERBOSE as the 2nd argument to re.compile() allow to do? \n",
    "The re.VERBOSE argument allows us to add whitespace and comments to the string passed to re.compile()\n",
    "\n",
    "When using re.VERBOSE, the following features are enabled:\n",
    "\n",
    "Whitespace: Whitespace characters (spaces, tabs, and line breaks) within the regular expression are ignored. This allows you to add line breaks and indentation to improve readability.\n",
    "\n",
    "Comments: Comments can be added using the # symbol, and they are ignored by the regular expression engine. This allows you to provide explanations and annotations within the regular expression pattern.\n",
    "\n",
    "Line breaks: Line breaks are treated as regular whitespace characters, which can be useful for formatting the regular expression across multiple lines."
   ]
  },
  {
   "cell_type": "code",
   "execution_count": 25,
   "id": "343db9a5",
   "metadata": {},
   "outputs": [
    {
     "name": "stdout",
     "output_type": "stream",
     "text": [
      "['123 - 4567', '987 - 6543']\n"
     ]
    }
   ],
   "source": [
    "import re\n",
    "\n",
    "pattern = re.compile(r'''\n",
    "    \\d{3}    # Match three digits\n",
    "    \\s*      # Match zero or more whitespace characters\n",
    "    -        # Match a hyphen\n",
    "    \\s*      # Match zero or more whitespace characters\n",
    "    \\d{4}    # Match four digits\n",
    "''', re.VERBOSE)\n",
    "\n",
    "text = 'Phone numbers: 123 - 4567, 987 - 6543'\n",
    "\n",
    "matches = pattern.findall(text)\n",
    "print(matches)  # Output: ['123 - 4567', '987 - 6543']\n"
   ]
  },
  {
   "cell_type": "raw",
   "id": "020406ac",
   "metadata": {},
   "source": [
    "20. How would you write a regex that match a number with comma for every three digits? It must match the given following: \n",
    "\n",
    "'42' \n",
    "\n",
    "'1,234' \n",
    "\n",
    "'6,368,745' \n",
    "\n",
    "but not the following: \n",
    "\n",
    "'12,34,567' (which has only two digits between the commas) \n",
    "\n",
    "'1234' (which lacks commas) "
   ]
  },
  {
   "cell_type": "code",
   "execution_count": 37,
   "id": "56e4e453",
   "metadata": {},
   "outputs": [
    {
     "name": "stdout",
     "output_type": "stream",
     "text": [
      "matched 42\n",
      "matched 1,234\n",
      "matched 6,368,745\n"
     ]
    }
   ],
   "source": [
    "str1=['42', '1,234', '6,368,745', '12,34,567', '1234']\n",
    "patt= re.compile(r'^\\d{1,3}(,\\d{3})*$')\n",
    "\n",
    "for i in str1:\n",
    "    if re.search(patt,i):\n",
    "        print(f'matched {i}')\n",
    "    "
   ]
  },
  {
   "cell_type": "raw",
   "id": "be85e77d",
   "metadata": {},
   "source": [
    "21. How would you write a regex that matches the full name of someone whose last name is Watanabe? You can assume that the first name that comes before it will always be one word that begins with a capital letter. The regex must match the following: \n",
    "\n",
    "'Haruto Watanabe' \n",
    "\n",
    "'Alice Watanabe' \n",
    "\n",
    "'RoboCop Watanabe' \n",
    "\n",
    "but not the following: \n",
    "\n",
    "'haruto Watanabe' (where the first name is not capitalized) \n",
    "\n",
    "'Mr. Watanabe' (where the preceding word has a nonletter character) \n",
    "\n",
    "'Watanabe' (which has no first name) \n",
    "\n",
    "'Haruto watanabe' (where Watanabe is not capitalized) "
   ]
  },
  {
   "cell_type": "code",
   "execution_count": 50,
   "id": "007fa2de",
   "metadata": {},
   "outputs": [
    {
     "name": "stdout",
     "output_type": "stream",
     "text": [
      "matched--->Haruto Watanabe\n",
      "matched--->Alice Watanabe\n",
      "matched--->RoboCop Watanabe\n",
      "not matched---> haruto Watanabe\n",
      "not matched---> Mr. Watanabe\n",
      "not matched---> Watanabe\n",
      "not matched---> Haruto watanabe\n"
     ]
    }
   ],
   "source": [
    "str2=['Haruto Watanabe','Alice Watanabe' ,'RoboCop Watanabe','haruto Watanabe','Mr. Watanabe','Watanabe','Haruto watanabe']\n",
    "\n",
    "pattern=re.compile(r'^[A-Z][a-zA-Z]*\\sWatanabe$')\n",
    "for i in str2:\n",
    "    if re.search(pattern,i):\n",
    "        print(f'matched--->{i}')\n",
    "    else:\n",
    "        print(f'not matched---> {i}')\n"
   ]
  },
  {
   "cell_type": "raw",
   "id": "0c1b51b8",
   "metadata": {},
   "source": [
    "22. How would you write a regex that matches a sentence where the first word is either Alice, Bob, or Carol; the second word is either eats, pets, or throws; the third word is apples, cats, or baseballs; and the sentence ends with a period? This regex should be case-insensitive. It must match the following: \n",
    "\n",
    "'Alice eats apples.' \n",
    "\n",
    "'Bob pets cats.' \n",
    "'Carol throws baseballs.' \n",
    "\n",
    "'Alice throws Apples.' \n",
    "\n",
    "'BOB EATS CATS.' \n",
    "\n",
    "but not the following: \n",
    "\n",
    "'RoboCop eats apples.' \n",
    "\n",
    "'ALICE THROWS FOOTBALLS.' \n",
    "\n",
    "'Carol eats 7 cats.' \n",
    "\n",
    "^(Alice|Bob|Carol)\\s(eats|pets|throws)\\s(apples|cats|baseballs)\\.$"
   ]
  },
  {
   "cell_type": "code",
   "execution_count": 67,
   "id": "45675a4d",
   "metadata": {},
   "outputs": [
    {
     "name": "stdout",
     "output_type": "stream",
     "text": [
      "'Alice eats apples.'-- matches the pattern.\n",
      "'Bob pets cats.'-- matches the pattern.\n",
      "'Alice throws Apples.'-- matches the pattern.\n",
      "'BOB EATS CATS.'-- matches the pattern.\n",
      "'RoboCop eats apples.'-- does not match the pattern.\n",
      "'ALICE THROWS FOOTBALLS.'-- does not match the pattern.\n",
      "'Carol eats 7 cats.'-- does not match the pattern.\n"
     ]
    }
   ],
   "source": [
    "str3=['Alice eats apples.', 'Bob pets cats.','Alice throws Apples.','BOB EATS CATS.', 'RoboCop eats apples.',\n",
    "      'ALICE THROWS FOOTBALLS.', 'Carol eats 7 cats.' ]\n",
    "\n",
    "patt2=re.compile(r'^(Alice|Bob|Carol)\\s(eats|pets|Throws)\\s(apples|cats|baseballs)\\.$',re.IGNORECASE)\n",
    "\n",
    "for sentence in str3:\n",
    "    if pattern.match(sentence):\n",
    "        print(f\"'{sentence}'-- matches the pattern.\")\n",
    "    else:\n",
    "        print(f\"'{sentence}'-- does not match the pattern.\")"
   ]
  },
  {
   "cell_type": "code",
   "execution_count": null,
   "id": "000212e2",
   "metadata": {},
   "outputs": [],
   "source": []
  }
 ],
 "metadata": {
  "kernelspec": {
   "display_name": "Python 3 (ipykernel)",
   "language": "python",
   "name": "python3"
  },
  "language_info": {
   "codemirror_mode": {
    "name": "ipython",
    "version": 3
   },
   "file_extension": ".py",
   "mimetype": "text/x-python",
   "name": "python",
   "nbconvert_exporter": "python",
   "pygments_lexer": "ipython3",
   "version": "3.9.12"
  }
 },
 "nbformat": 4,
 "nbformat_minor": 5
}

{
 "cells": [
  {
   "cell_type": "raw",
   "id": "ca4aec5f",
   "metadata": {},
   "source": [
    "1.What are the two values of the Boolean data type? How do you write them?\n",
    "Answer: The boolean data type is either True or False. In Python, boolean variables are defined by the True and False keywords\n",
    "    print(10 > 9)// True\n",
    "    print(10 == 9)// False\n"
   ]
  },
  {
   "cell_type": "raw",
   "id": "bd1e551d",
   "metadata": {},
   "source": [
    "2. What are the three different types of Boolean operators?\n",
    "Ans:\n",
    "    The logical operators and, or and not are referred as boolean operators.\n",
    "    or operator needs two operands, which may evaluate to true or false, not operator needs one operand evaluating to \n",
    "    true or false.\n",
    "    a=50\n",
    "    b=25\n",
    "    AND opertors:\n",
    "    a>40 and b>40 //False\n",
    "    a>100 and b<50 // False\n",
    "    a==0 and b==0 //False\n",
    "    a>0 and b>0 //True\n",
    "    \n",
    "    OR Operators:\n",
    "    a=50\n",
    "    b=25\n",
    "    a>40 or b>40 //True\n",
    "    a>100 or b<50 //True\n",
    "    a==0 or b==0 //False\n",
    "    a>0 or b>0 //True\n",
    "    \n",
    "    Not Operator:\n",
    "    a=10\n",
    "    a>10 //False\n",
    "    not(a>10) //True\n",
    "    "
   ]
  },
  {
   "cell_type": "raw",
   "id": "99a5204f",
   "metadata": {},
   "source": [
    "3. Make a list of each Boolean operator's truth tables (i.e. every possible combination of Boolean values for the operator    and what it evaluate ).\n",
    "Answer:  a=50\n",
    "        b=25\n",
    "        AND opertors:\n",
    "        a>40 and b>40 //False\n",
    "        a>100 and b<50 // False\n",
    "        a==0 and b==0 //False\n",
    "        a>0 and b>0 //True\n",
    "\n",
    "        OR Operators:\n",
    "        a=50\n",
    "        b=25\n",
    "        a>40 or b>40 //True\n",
    "        a>100 or b<50 //True\n",
    "        a==0 or b==0 //False\n",
    "        a>0 or b>0 //True\n",
    "\n",
    "        Not Operator:\n",
    "        a=10\n",
    "        a>10 //False\n",
    "        not(a>10) //True\n"
   ]
  },
  {
   "cell_type": "raw",
   "id": "4372e3be",
   "metadata": {},
   "source": [
    "4.What are the values of the following expressions? \n",
    "\n",
    "Answer: \n",
    "    (5 > 4) and (3 == 5)  // false \n",
    "\n",
    "    not (5 > 4) //False\n",
    "\n",
    "    (5 > 4) or (3 == 5) // True\n",
    "\n",
    "    not ((5 > 4) or (3 == 5)) // False\n",
    "\n",
    "    (True and True) and (True == False)  // FALSE\n",
    "\n",
    "    (not False) or (not True) // TRUE "
   ]
  },
  {
   "cell_type": "raw",
   "id": "095cb4ad",
   "metadata": {},
   "source": [
    "What are the six comparison operators?\n",
    "\n",
    "A comparison operator in python, also called python relational operator, compares the values of two operands and returns True or False based on whether the condition is met.\n",
    "\n",
    "there are six comparision operators:\n",
    "1) (>)- \"Less than operator\" : it checks if the left value is lesser than that on the right.\n",
    "    example:-\n",
    "    2<10 //  True\n",
    "    (1,2,3)<(1,2,3,4) // True\n",
    "    (1,2)<('One','Two') //it will giive an error as '<' not support in different data type\n",
    "     \n",
    "2) (<)--> \"Greater than operator\" --> checks whether the left value is greater than the one on the right.\n",
    "    example:-\n",
    "    15>10 //True\n",
    "    3,4,5>(3,4,5.0) //It will through an error as TypeError: ‘>’ not supported between instances of ‘int’ and ‘tuple’\n",
    "    \n",
    "3)Less Than or Equal To (<=) Operator: returns True only if the value on the left is either less than or equal to that on     the right of the operator. \n",
    "  a=2\n",
    "  a<=a*2\n",
    "4)Equal To or Greater Than(>=) Operator:\n",
    "  this operator returns True only if the value on the left is greater than or equal to that on the right.\n",
    "\n",
    "5)Python Equal To (==) Operator\n",
    "The equal to operator returns True if the values on either side of the operator are equal.\n",
    "  3==3 //True\n",
    "  \n",
    " 6)Not Equal Operator (!=) Operator\n",
    "    It returns True if the values on either side of the operator are unequal.\n",
    "    "
   ]
  },
  {
   "cell_type": "raw",
   "id": "9b586ce6",
   "metadata": {},
   "source": [
    "6. How do you tell the difference between the equal to and assignment operators?Describe a\n",
    "   condition and when you would use one.\n",
    "Ans:\n",
    "    The “=” is an assignment operator used to assign the value on the right to the variable on the left. \n",
    "     a=\"adhiraj\"\n",
    "     \n",
    "    The ‘==’ operator checks whether the two given operands are equal or not. If so, it returns true. Otherwise it returns     false.\n",
    "    \n",
    "    so in conclusion if we want to compare the two operands are equal ot not than we use equals to operator, and while assigning the values we wiil use asignment operator"
   ]
  },
  {
   "cell_type": "code",
   "execution_count": 12,
   "id": "30caccb4",
   "metadata": {},
   "outputs": [
    {
     "name": "stdout",
     "output_type": "stream",
     "text": [
      "ham\n",
      "spam\n",
      "spam\n"
     ]
    }
   ],
   "source": [
    "# 7. Identify the three blocks in this code: \n",
    "\n",
    "spam = 0 \n",
    "\n",
    "if spam == 10: \n",
    "    print('eggs')   #first block\n",
    "if spam > 5:\n",
    "    print('bacon') #second block\n",
    "else: \n",
    "    #Third block\n",
    "    print('ham') \n",
    "\n",
    "    print('spam') \n",
    "\n",
    "    print('spam') "
   ]
  },
  {
   "cell_type": "code",
   "execution_count": 22,
   "id": "cba9be4a",
   "metadata": {},
   "outputs": [
    {
     "name": "stdout",
     "output_type": "stream",
     "text": [
      "2\n",
      "Howdy\n"
     ]
    }
   ],
   "source": [
    "#8. Write code that prints Hello if 1 is stored in spam, prints Howdy if 2 is stored in spam, and prints Greetings! \n",
    "#   if anything else is stored in spam. \n",
    "\n",
    "spam=(int(input()))\n",
    "if spam==1:\n",
    "    print(\"Hello\")\n",
    "elif spam==2:\n",
    "    print(\"Howdy\")\n",
    "else:\n",
    "    print(\"Greeting !\")\n"
   ]
  },
  {
   "cell_type": "raw",
   "id": "f2fed1b2",
   "metadata": {},
   "source": [
    "9.If your programme is stuck in an endless loop, what keys you’ll press? \n",
    "\n",
    "Answer: Ctrl+C"
   ]
  },
  {
   "cell_type": "raw",
   "id": "0947aa30",
   "metadata": {},
   "source": [
    "10. How can you tell the difference between break and continue? \n",
    "Answer: The main difference between both the statements is that when break keyword comes, it terminates the execution of           the current loop and passes the control over the next loop or main body,\n",
    "        whereas when continue keyword is encountered, it skips the current iteration and executes the very next iteration           in the loop. "
   ]
  },
  {
   "cell_type": "raw",
   "id": "55242db9",
   "metadata": {},
   "source": [
    "11. In a for loop, what is the difference between range(10), range(0, 10), and range(0, 10, 1)? \n",
    "Answer: there are three arguments in range\n",
    "        range(start,stop, step)\n",
    "        the first argument is start\n",
    "        the second argument is stop\n",
    "        the third argument is step\n",
    "   ---------------------------------------------------------------------------------------------------------------\n",
    "        range(10) will run from 0 to 9th iteration\n",
    "        range(0,10) will also start from 0 to 10\n",
    "        range(0,10,1) : It iwll also start from 0 to 9th iteration with a step arguments of 1\n",
    "        range() with Start, Stop and Step Arguments\n",
    "\n"
   ]
  },
  {
   "cell_type": "raw",
   "id": "bd2cd84f",
   "metadata": {},
   "source": [
    "12. Write a short program that prints the numbers 1 to 10 using a for loop.\n",
    "    Then write an equivalent program that prints the numbers 1 to 10 using a while loop. "
   ]
  },
  {
   "cell_type": "code",
   "execution_count": 39,
   "id": "2f2e52c6",
   "metadata": {},
   "outputs": [
    {
     "name": "stdout",
     "output_type": "stream",
     "text": [
      "0 1 2 3 4 5 6 7 8 9 10 \n",
      "0 1 2 3 4 5 6 7 8 9 10 "
     ]
    }
   ],
   "source": [
    "#printing the 1 to 10 numbers using for loop\n",
    "for i in range(11):\n",
    "    print(i, end=\" \")\n",
    "print()    \n",
    "#printing the 1 to 10 numbers using while loop\n",
    "i=0\n",
    "while(i<=10):\n",
    "    print(i, end=\" \")\n",
    "    i=i+1"
   ]
  },
  {
   "cell_type": "raw",
   "id": "e6557a3a",
   "metadata": {},
   "source": [
    "13. If you had a function named bacon() inside a module named spam, how would you call it after importing spam? \n",
    "Answer: spam. bacon()\n",
    " "
   ]
  },
  {
   "cell_type": "code",
   "execution_count": null,
   "id": "2c65797d",
   "metadata": {},
   "outputs": [],
   "source": []
  },
  {
   "cell_type": "code",
   "execution_count": null,
   "id": "1f30dc3e",
   "metadata": {},
   "outputs": [],
   "source": []
  }
 ],
 "metadata": {
  "kernelspec": {
   "display_name": "Python 3 (ipykernel)",
   "language": "python",
   "name": "python3"
  },
  "language_info": {
   "codemirror_mode": {
    "name": "ipython",
    "version": 3
   },
   "file_extension": ".py",
   "mimetype": "text/x-python",
   "name": "python",
   "nbconvert_exporter": "python",
   "pygments_lexer": "ipython3",
   "version": "3.9.12"
  }
 },
 "nbformat": 4,
 "nbformat_minor": 5
}

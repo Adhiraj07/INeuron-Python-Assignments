{
 "cells": [
  {
   "cell_type": "raw",
   "id": "da54de60",
   "metadata": {},
   "source": [
    "1. Why are functions advantageous to have in your programs? \n",
    "Ans:\n",
    "    Enables reusability and reduces redundancy.\n",
    "    Makes a code modular.\n",
    "    Provides abstraction functionality.\n",
    "    The program becomes easy to understand and manage.\n",
    "    "
   ]
  },
  {
   "cell_type": "raw",
   "id": "17ba3d7f",
   "metadata": {},
   "source": [
    "2. When does the code in a function run: when it's specified or when it's called?\n",
    "Answer: The code in a function run when it is called\n"
   ]
  },
  {
   "cell_type": "raw",
   "id": "8ec739a9",
   "metadata": {},
   "source": [
    "3. What statement creates a function? \n",
    "Ans: \"def\" keyword is used to create a function\n",
    "\n"
   ]
  },
  {
   "cell_type": "raw",
   "id": "2fc7ce89",
   "metadata": {},
   "source": [
    "4. What is the difference between a function and a function call? \n",
    "Answer:\n",
    "      A function is a piece of code which enhanced the reusability and modularity of your program. \n",
    "      It means that piece of code need not be written again and again. \n",
    "      A function call means invoking or calling that function. "
   ]
  },
  {
   "cell_type": "raw",
   "id": "0bf4713e",
   "metadata": {},
   "source": [
    "# 5. How many global scopes are there in a Python program? How many local scopes? \n",
    "Ans: A variable is only available from inside the region it is created. This is called scope.\n",
    "     Local Scope: \n",
    "     A variable created inside a function belongs to the local scope of that function, and can only be used inside that          function.\n",
    "     def myfunc():\n",
    "      x = 20\n",
    "      print(x) \n",
    "      \n",
    "     myfucn() //20\n",
    "      \n",
    "     Global Scope:\n",
    "     A variable created in the main body of the Python code is a global variable and belongs to the global scope.\n",
    "      Global variables are available from within any scope, global and local.\n",
    "      x = 300\n",
    "\n",
    "      def myfunc():\n",
    "        x = 100\n",
    "        print(x)\n",
    "     myfunc() //100\n",
    "     "
   ]
  },
  {
   "cell_type": "raw",
   "id": "86ff8dc3",
   "metadata": {},
   "source": [
    "6. What happens to variables in a local scope when the function call returns? \n",
    "ans: The space that local variables occupies is deallocated when the function call returns."
   ]
  },
  {
   "cell_type": "raw",
   "id": "57247970",
   "metadata": {},
   "source": [
    "7. What is the concept of a return value? Is it possible to have a return value in an expression? \n",
    "\n",
    "Ans: A return is a value that a function returns to the calling function when it completes its task. \n",
    "     If the return statement is without any expression, then the special value None is returned."
   ]
  },
  {
   "cell_type": "raw",
   "id": "370541c5",
   "metadata": {},
   "source": [
    "8. If a function does not have a return statement, what is the return value of a call to that function? \n",
    "Ans: If the function doesn’t have any return statement, then it returns None.\n"
   ]
  },
  {
   "cell_type": "code",
   "execution_count": 4,
   "id": "a92fd3a2",
   "metadata": {},
   "outputs": [
    {
     "name": "stdout",
     "output_type": "stream",
     "text": [
      "None\n"
     ]
    }
   ],
   "source": [
    "def func1():\n",
    "    x=2+3\n",
    "    \n",
    "print(func1())"
   ]
  },
  {
   "cell_type": "raw",
   "id": "328b967a",
   "metadata": {},
   "source": [
    "9. How do you make a function variable refer to the global variable? \n",
    "\n",
    "To create a global variable inside a function, we can use the global keyword."
   ]
  },
  {
   "cell_type": "code",
   "execution_count": 5,
   "id": "e996be49",
   "metadata": {},
   "outputs": [
    {
     "name": "stdout",
     "output_type": "stream",
     "text": [
      "global variable\n"
     ]
    }
   ],
   "source": [
    "def gl_func():\n",
    "    global x\n",
    "    x = \"global variable\"\n",
    "\n",
    "gl_func()\n",
    "print(x)"
   ]
  },
  {
   "cell_type": "raw",
   "id": "f19313d5",
   "metadata": {},
   "source": [
    "10. What is the data type of None? \n",
    "Ans: NoneType"
   ]
  },
  {
   "cell_type": "code",
   "execution_count": 7,
   "id": "04e4722d",
   "metadata": {},
   "outputs": [
    {
     "data": {
      "text/plain": [
       "NoneType"
      ]
     },
     "execution_count": 7,
     "metadata": {},
     "output_type": "execute_result"
    }
   ],
   "source": [
    "type(None)"
   ]
  },
  {
   "cell_type": "raw",
   "id": "03b22bce",
   "metadata": {},
   "source": [
    "11. What does the sentence import areallyourpetsnamederic do? \n",
    "This sentence imports the module “areallyourpetsnamederic “"
   ]
  },
  {
   "cell_type": "raw",
   "id": "55b1cc76",
   "metadata": {},
   "source": [
    "12. If you had a bacon() feature in a spam module, what would you call it after importing spam?\n",
    "\n",
    "spam.balcon()"
   ]
  },
  {
   "cell_type": "raw",
   "id": "48083a02",
   "metadata": {},
   "source": [
    "13. What can you do to save a programme from crashing if it encounters an error? \n",
    "\n",
    "By using exceptional handling we can prevent the code crashing"
   ]
  },
  {
   "cell_type": "raw",
   "id": "f0345c78",
   "metadata": {},
   "source": [
    "14. What is the purpose of the try clause? What is the purpose of the except clause? "
   ]
  }
 ],
 "metadata": {
  "kernelspec": {
   "display_name": "Python 3 (ipykernel)",
   "language": "python",
   "name": "python3"
  },
  "language_info": {
   "codemirror_mode": {
    "name": "ipython",
    "version": 3
   },
   "file_extension": ".py",
   "mimetype": "text/x-python",
   "name": "python",
   "nbconvert_exporter": "python",
   "pygments_lexer": "ipython3",
   "version": "3.9.12"
  }
 },
 "nbformat": 4,
 "nbformat_minor": 5
}

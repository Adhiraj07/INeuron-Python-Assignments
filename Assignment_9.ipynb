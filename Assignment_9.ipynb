{
 "cells": [
  {
   "cell_type": "raw",
   "id": "402b4b23",
   "metadata": {},
   "source": [
    "1. To what does a relative path refer? \n",
    "\n",
    "A relative path in Python is a path that describes the location of a directory relative to the entry point where you run the Python script."
   ]
  },
  {
   "cell_type": "raw",
   "id": "b44d8fb3",
   "metadata": {},
   "source": [
    "2. What does an absolute path start with your operating system? \n",
    "An absolute path is a path that contains the entire path to the file or directory that we need to access. This path will begin at the home directory of our computer and will end with the file or directory that we wish to access."
   ]
  },
  {
   "cell_type": "raw",
   "id": "057981d4",
   "metadata": {},
   "source": [
    "3. What do the functions os.getcwd() and os.chdir() do? \n",
    "\n",
    "os.getcwd():\n",
    "The os.getcwd() function returns the current working directory (CWD) as a string.\n",
    "The current working directory refers to the directory in which the Python script is currently executing or the directory from which the Python interpreter was launched.\n",
    "This function is useful for obtaining the current directory path for various purposes, such as locating files or navigating the file system.\n",
    "\n",
    "os.chdir(path):\n",
    "The os.chdir(path) function changes the current working directory to the specified path.\n",
    "The path parameter represents the directory path to which you want to switch.\n",
    "After calling this function, all subsequent file operations or relative paths will be performed relative to the new working directory."
   ]
  },
  {
   "cell_type": "code",
   "execution_count": 1,
   "id": "0120d918",
   "metadata": {},
   "outputs": [
    {
     "data": {
      "text/plain": [
       "'C:\\\\Users\\\\91877'"
      ]
     },
     "execution_count": 1,
     "metadata": {},
     "output_type": "execute_result"
    }
   ],
   "source": [
    "import os\n",
    "os.getcwd()"
   ]
  },
  {
   "cell_type": "raw",
   "id": "54b7f3a8",
   "metadata": {},
   "source": [
    "4. What are the . and .. folders? \n",
    "The . directory, often referred to as the \"dot\" directory, represents the current directory or the current location in the file system hierarchy.\n",
    "\n",
    "The .. directory, often referred to as the \"dot-dot\" directory, represents the parent directory or the directory immediately above the current directory in the file system hierarchy."
   ]
  },
  {
   "cell_type": "raw",
   "id": "6a98a878",
   "metadata": {},
   "source": [
    "5. In C:\\bacon\\eggs\\spam.txt, which part is the dir name, and which part is the base name? \n",
    "Directory Name: \"C:\\bacon\\eggs\"\n",
    "Base Name: \"spam.txt\""
   ]
  },
  {
   "cell_type": "raw",
   "id": "5cbf05d7",
   "metadata": {},
   "source": [
    "6. What are the three “mode” arguments that can be passed to the open() function? \n",
    "\n",
    "The python open() function is used to open() internally stored files. It returns the contents of the file as python objects.\n",
    "\n",
    "“r”: This string is used to read(only) the file. It is passed as default if no parameter is supplied and returns an error if no such file exists.\n",
    "“w”: This string is used for writing on/over the file. If the file with the supplied name doesn’t exist, it creates one for you.\n",
    "“a”: This string is used to add(append) content to an existing file. If no such file exists, it creates one for you.\n",
    "“x”: This string is used to create a specific file.\n",
    "“b”: This string is used when the user wants to handle the file in binary mode. This is generally used to handle image files.\n",
    "“t”: This string is used to handle files in text mode. By default, the open() function uses the text mode.\n"
   ]
  },
  {
   "cell_type": "raw",
   "id": "386bda2e",
   "metadata": {},
   "source": [
    "7. What happens if an existing file is opened in write mode? \n",
    " If we open an existing file in the write mode the previous data will be erased and the file object will be positioned at the beginning of the file."
   ]
  },
  {
   "cell_type": "raw",
   "id": "714a6fb6",
   "metadata": {},
   "source": [
    "8. How do you tell the difference between read() and readlines()? \n",
    "\n",
    "\n",
    "The read() method is used to read the entire contents of a file as a single string.\n",
    "It reads from the current position in the file up to the specified number of characters, or if no argument is provided, it reads the entire file.\n",
    "The readlines() method is used to read the contents of a file line by line and return them as a list of strings.\n",
    "It reads from the current position in the file until the end of the file and separates the content into lines based on newline characters ('\\n')."
   ]
  },
  {
   "cell_type": "code",
   "execution_count": null,
   "id": "69434918",
   "metadata": {},
   "outputs": [],
   "source": []
  },
  {
   "cell_type": "code",
   "execution_count": null,
   "id": "7ccb532c",
   "metadata": {},
   "outputs": [],
   "source": []
  },
  {
   "cell_type": "code",
   "execution_count": null,
   "id": "d7b3e6a9",
   "metadata": {},
   "outputs": [],
   "source": []
  },
  {
   "cell_type": "code",
   "execution_count": null,
   "id": "b0b9dad9",
   "metadata": {},
   "outputs": [],
   "source": []
  },
  {
   "cell_type": "code",
   "execution_count": null,
   "id": "2d5a86f6",
   "metadata": {},
   "outputs": [],
   "source": []
  }
 ],
 "metadata": {
  "kernelspec": {
   "display_name": "Python 3 (ipykernel)",
   "language": "python",
   "name": "python3"
  },
  "language_info": {
   "codemirror_mode": {
    "name": "ipython",
    "version": 3
   },
   "file_extension": ".py",
   "mimetype": "text/x-python",
   "name": "python",
   "nbconvert_exporter": "python",
   "pygments_lexer": "ipython3",
   "version": "3.9.12"
  }
 },
 "nbformat": 4,
 "nbformat_minor": 5
}
